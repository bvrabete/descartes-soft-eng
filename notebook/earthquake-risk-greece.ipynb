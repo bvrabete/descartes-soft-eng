{
 "cells": [
  {
   "cell_type": "markdown",
   "metadata": {},
   "source": [
    "# Earthquake risk in Greece\n",
    "\n",
    "This project is quite different from a software development task.\n",
    "\n",
    "Don't hesitate to contact us, if you have any doubts on what is asked or if you encounter error will using the notebook."
   ]
  },
  {
   "cell_type": "code",
   "execution_count": 64,
   "metadata": {},
   "outputs": [],
   "source": [
    "%reload_ext autoreload\n",
    "%autoreload 2"
   ]
  },
  {
   "cell_type": "markdown",
   "metadata": {},
   "source": [
    "## Constraints\n",
    "\n",
    "+ 🚨 Only cells with the comment `# NOTE: Fill me!` should be filled\n",
    "+ 🚨 Notebook should be saved and commited **with** outputs for the submission\n",
    "\n",
    "\n",
    "+ ⚠️ The solution only requires packages listed in the `requirements/requirements.txt`\n",
    "+ ⚠️ Unit tests should be favored when asked to write tests \n",
    "+ ⚠️ Tests must automatically be detected running `pytest`\n",
    "+ ⚠️ Requested method signature should be inferred from this notebook\n",
    "\n",
    "\n",
    "## Note\n",
    "\n",
    "+ The `assert` statements in the notebook are here to guide the project.\n",
    "However, successful `assert` statements does not guaranty that your code is correct.\n",
    "\n",
    "## Setup\n",
    "\n",
    "In a Python >= 3.8 virtual env, run:"
   ]
  },
  {
   "cell_type": "code",
   "execution_count": 65,
   "metadata": {},
   "outputs": [
    {
     "name": "stderr",
     "output_type": "stream",
     "text": [
      "9209.28s - pydevd: Sending message related to process being replaced timed-out after 5 seconds\n"
     ]
    },
    {
     "name": "stdout",
     "output_type": "stream",
     "text": [
      "Requirement already satisfied: pandas in /home/bvrabete/anaconda3/envs/py39/lib/python3.9/site-packages (from -r ../requirements/requirements.txt (line 1)) (2.1.0)\n",
      "Requirement already satisfied: numpy in /home/bvrabete/anaconda3/envs/py39/lib/python3.9/site-packages (from -r ../requirements/requirements.txt (line 2)) (1.25.2)\n",
      "Requirement already satisfied: ipykernel in /home/bvrabete/anaconda3/envs/py39/lib/python3.9/site-packages (from -r ../requirements/requirements.txt (line 3)) (6.25.2)\n",
      "Requirement already satisfied: pytest in /home/bvrabete/anaconda3/envs/py39/lib/python3.9/site-packages (from -r ../requirements/requirements.txt (line 4)) (7.1.2)\n",
      "Requirement already satisfied: matplotlib in /home/bvrabete/anaconda3/envs/py39/lib/python3.9/site-packages (from -r ../requirements/requirements.txt (line 5)) (3.8.0)\n",
      "Requirement already satisfied: asyncio in /home/bvrabete/anaconda3/envs/py39/lib/python3.9/site-packages (from -r ../requirements/requirements.txt (line 6)) (3.4.3)\n",
      "Requirement already satisfied: aiohttp in /home/bvrabete/anaconda3/envs/py39/lib/python3.9/site-packages (from -r ../requirements/requirements.txt (line 7)) (3.8.1)\n",
      "Requirement already satisfied: pytz>=2020.1 in /home/bvrabete/anaconda3/envs/py39/lib/python3.9/site-packages (from pandas->-r ../requirements/requirements.txt (line 1)) (2023.3.post1)\n",
      "Requirement already satisfied: tzdata>=2022.1 in /home/bvrabete/anaconda3/envs/py39/lib/python3.9/site-packages (from pandas->-r ../requirements/requirements.txt (line 1)) (2023.3)\n",
      "Requirement already satisfied: python-dateutil>=2.8.2 in /home/bvrabete/.local/lib/python3.9/site-packages (from pandas->-r ../requirements/requirements.txt (line 1)) (2.8.2)\n",
      "Requirement already satisfied: nest-asyncio in /home/bvrabete/anaconda3/envs/py39/lib/python3.9/site-packages (from ipykernel->-r ../requirements/requirements.txt (line 3)) (1.5.7)\n",
      "Requirement already satisfied: debugpy>=1.6.5 in /home/bvrabete/anaconda3/envs/py39/lib/python3.9/site-packages (from ipykernel->-r ../requirements/requirements.txt (line 3)) (1.8.0)\n",
      "Requirement already satisfied: tornado>=6.1 in /home/bvrabete/anaconda3/envs/py39/lib/python3.9/site-packages (from ipykernel->-r ../requirements/requirements.txt (line 3)) (6.3.3)\n",
      "Requirement already satisfied: traitlets>=5.4.0 in /home/bvrabete/anaconda3/envs/py39/lib/python3.9/site-packages (from ipykernel->-r ../requirements/requirements.txt (line 3)) (5.10.0)\n",
      "Requirement already satisfied: psutil in /home/bvrabete/anaconda3/envs/py39/lib/python3.9/site-packages (from ipykernel->-r ../requirements/requirements.txt (line 3)) (5.9.5)\n",
      "Requirement already satisfied: jupyter-client>=6.1.12 in /home/bvrabete/anaconda3/envs/py39/lib/python3.9/site-packages (from ipykernel->-r ../requirements/requirements.txt (line 3)) (8.3.1)\n",
      "Requirement already satisfied: pyzmq>=20 in /home/bvrabete/anaconda3/envs/py39/lib/python3.9/site-packages (from ipykernel->-r ../requirements/requirements.txt (line 3)) (25.1.1)\n",
      "Requirement already satisfied: packaging in /home/bvrabete/anaconda3/envs/py39/lib/python3.9/site-packages (from ipykernel->-r ../requirements/requirements.txt (line 3)) (23.1)\n",
      "Requirement already satisfied: jupyter-core!=5.0.*,>=4.12 in /home/bvrabete/anaconda3/envs/py39/lib/python3.9/site-packages (from ipykernel->-r ../requirements/requirements.txt (line 3)) (5.3.1)\n",
      "Requirement already satisfied: comm>=0.1.1 in /home/bvrabete/anaconda3/envs/py39/lib/python3.9/site-packages (from ipykernel->-r ../requirements/requirements.txt (line 3)) (0.1.4)\n",
      "Requirement already satisfied: ipython>=7.23.1 in /home/bvrabete/anaconda3/envs/py39/lib/python3.9/site-packages (from ipykernel->-r ../requirements/requirements.txt (line 3)) (8.15.0)\n",
      "Requirement already satisfied: matplotlib-inline>=0.1 in /home/bvrabete/anaconda3/envs/py39/lib/python3.9/site-packages (from ipykernel->-r ../requirements/requirements.txt (line 3)) (0.1.6)\n",
      "Requirement already satisfied: attrs>=19.2.0 in /home/bvrabete/.local/lib/python3.9/site-packages (from pytest->-r ../requirements/requirements.txt (line 4)) (21.4.0)\n",
      "Requirement already satisfied: iniconfig in /home/bvrabete/anaconda3/envs/py39/lib/python3.9/site-packages (from pytest->-r ../requirements/requirements.txt (line 4)) (1.1.1)\n",
      "Requirement already satisfied: pluggy<2.0,>=0.12 in /home/bvrabete/anaconda3/envs/py39/lib/python3.9/site-packages (from pytest->-r ../requirements/requirements.txt (line 4)) (1.0.0)\n",
      "Requirement already satisfied: py>=1.8.2 in /home/bvrabete/anaconda3/envs/py39/lib/python3.9/site-packages (from pytest->-r ../requirements/requirements.txt (line 4)) (1.11.0)\n",
      "Requirement already satisfied: tomli>=1.0.0 in /home/bvrabete/anaconda3/envs/py39/lib/python3.9/site-packages (from pytest->-r ../requirements/requirements.txt (line 4)) (2.0.1)\n",
      "Requirement already satisfied: pillow>=6.2.0 in /home/bvrabete/anaconda3/envs/py39/lib/python3.9/site-packages (from matplotlib->-r ../requirements/requirements.txt (line 5)) (10.0.0)\n",
      "Requirement already satisfied: cycler>=0.10 in /home/bvrabete/anaconda3/envs/py39/lib/python3.9/site-packages (from matplotlib->-r ../requirements/requirements.txt (line 5)) (0.11.0)\n",
      "Requirement already satisfied: contourpy>=1.0.1 in /home/bvrabete/anaconda3/envs/py39/lib/python3.9/site-packages (from matplotlib->-r ../requirements/requirements.txt (line 5)) (1.1.0)\n",
      "Requirement already satisfied: pyparsing>=2.3.1 in /home/bvrabete/.local/lib/python3.9/site-packages (from matplotlib->-r ../requirements/requirements.txt (line 5)) (3.0.8)\n",
      "Requirement already satisfied: fonttools>=4.22.0 in /home/bvrabete/anaconda3/envs/py39/lib/python3.9/site-packages (from matplotlib->-r ../requirements/requirements.txt (line 5)) (4.42.1)\n",
      "Requirement already satisfied: kiwisolver>=1.0.1 in /home/bvrabete/anaconda3/envs/py39/lib/python3.9/site-packages (from matplotlib->-r ../requirements/requirements.txt (line 5)) (1.4.5)\n",
      "Requirement already satisfied: importlib-resources>=3.2.0 in /home/bvrabete/anaconda3/envs/py39/lib/python3.9/site-packages (from matplotlib->-r ../requirements/requirements.txt (line 5)) (6.0.1)\n",
      "Requirement already satisfied: charset-normalizer<3.0,>=2.0 in /home/bvrabete/.local/lib/python3.9/site-packages (from aiohttp->-r ../requirements/requirements.txt (line 7)) (2.0.12)\n",
      "Requirement already satisfied: yarl<2.0,>=1.0 in /home/bvrabete/anaconda3/envs/py39/lib/python3.9/site-packages (from aiohttp->-r ../requirements/requirements.txt (line 7)) (1.8.1)\n",
      "Requirement already satisfied: frozenlist>=1.1.1 in /home/bvrabete/anaconda3/envs/py39/lib/python3.9/site-packages (from aiohttp->-r ../requirements/requirements.txt (line 7)) (1.3.1)\n",
      "Requirement already satisfied: aiosignal>=1.1.2 in /home/bvrabete/anaconda3/envs/py39/lib/python3.9/site-packages (from aiohttp->-r ../requirements/requirements.txt (line 7)) (1.2.0)\n",
      "Requirement already satisfied: multidict<7.0,>=4.5 in /home/bvrabete/anaconda3/envs/py39/lib/python3.9/site-packages (from aiohttp->-r ../requirements/requirements.txt (line 7)) (6.0.2)\n",
      "Requirement already satisfied: async-timeout<5.0,>=4.0.0a3 in /home/bvrabete/anaconda3/envs/py39/lib/python3.9/site-packages (from aiohttp->-r ../requirements/requirements.txt (line 7)) (4.0.2)\n",
      "Requirement already satisfied: zipp>=3.1.0 in /home/bvrabete/.local/lib/python3.9/site-packages (from importlib-resources>=3.2.0->matplotlib->-r ../requirements/requirements.txt (line 5)) (3.8.0)\n",
      "Requirement already satisfied: typing-extensions in /home/bvrabete/anaconda3/envs/py39/lib/python3.9/site-packages (from ipython>=7.23.1->ipykernel->-r ../requirements/requirements.txt (line 3)) (4.1.1)\n",
      "Requirement already satisfied: pickleshare in /home/bvrabete/anaconda3/envs/py39/lib/python3.9/site-packages (from ipython>=7.23.1->ipykernel->-r ../requirements/requirements.txt (line 3)) (0.7.5)\n",
      "Requirement already satisfied: decorator in /home/bvrabete/anaconda3/envs/py39/lib/python3.9/site-packages (from ipython>=7.23.1->ipykernel->-r ../requirements/requirements.txt (line 3)) (5.1.1)\n",
      "Requirement already satisfied: backcall in /home/bvrabete/anaconda3/envs/py39/lib/python3.9/site-packages (from ipython>=7.23.1->ipykernel->-r ../requirements/requirements.txt (line 3)) (0.2.0)\n",
      "Requirement already satisfied: stack-data in /home/bvrabete/anaconda3/envs/py39/lib/python3.9/site-packages (from ipython>=7.23.1->ipykernel->-r ../requirements/requirements.txt (line 3)) (0.6.2)\n",
      "Requirement already satisfied: pygments>=2.4.0 in /home/bvrabete/anaconda3/envs/py39/lib/python3.9/site-packages (from ipython>=7.23.1->ipykernel->-r ../requirements/requirements.txt (line 3)) (2.16.1)\n",
      "Requirement already satisfied: pexpect>4.3 in /home/bvrabete/anaconda3/envs/py39/lib/python3.9/site-packages (from ipython>=7.23.1->ipykernel->-r ../requirements/requirements.txt (line 3)) (4.8.0)\n",
      "Requirement already satisfied: jedi>=0.16 in /home/bvrabete/anaconda3/envs/py39/lib/python3.9/site-packages (from ipython>=7.23.1->ipykernel->-r ../requirements/requirements.txt (line 3)) (0.19.0)\n",
      "Requirement already satisfied: prompt-toolkit!=3.0.37,<3.1.0,>=3.0.30 in /home/bvrabete/anaconda3/envs/py39/lib/python3.9/site-packages (from ipython>=7.23.1->ipykernel->-r ../requirements/requirements.txt (line 3)) (3.0.39)\n",
      "Requirement already satisfied: exceptiongroup in /home/bvrabete/anaconda3/envs/py39/lib/python3.9/site-packages (from ipython>=7.23.1->ipykernel->-r ../requirements/requirements.txt (line 3)) (1.1.3)\n",
      "Requirement already satisfied: parso<0.9.0,>=0.8.3 in /home/bvrabete/anaconda3/envs/py39/lib/python3.9/site-packages (from jedi>=0.16->ipython>=7.23.1->ipykernel->-r ../requirements/requirements.txt (line 3)) (0.8.3)\n",
      "Requirement already satisfied: importlib-metadata>=4.8.3 in /home/bvrabete/.local/lib/python3.9/site-packages (from jupyter-client>=6.1.12->ipykernel->-r ../requirements/requirements.txt (line 3)) (4.11.3)\n",
      "Requirement already satisfied: platformdirs>=2.5 in /home/bvrabete/anaconda3/envs/py39/lib/python3.9/site-packages (from jupyter-core!=5.0.*,>=4.12->ipykernel->-r ../requirements/requirements.txt (line 3)) (3.5.0)\n",
      "Requirement already satisfied: ptyprocess>=0.5 in /home/bvrabete/anaconda3/envs/py39/lib/python3.9/site-packages (from pexpect>4.3->ipython>=7.23.1->ipykernel->-r ../requirements/requirements.txt (line 3)) (0.7.0)\n",
      "Requirement already satisfied: wcwidth in /home/bvrabete/anaconda3/envs/py39/lib/python3.9/site-packages (from prompt-toolkit!=3.0.37,<3.1.0,>=3.0.30->ipython>=7.23.1->ipykernel->-r ../requirements/requirements.txt (line 3)) (0.2.5)\n",
      "Requirement already satisfied: six>=1.5 in /home/bvrabete/.local/lib/python3.9/site-packages (from python-dateutil>=2.8.2->pandas->-r ../requirements/requirements.txt (line 1)) (1.16.0)\n",
      "Requirement already satisfied: idna>=2.0 in /home/bvrabete/.local/lib/python3.9/site-packages (from yarl<2.0,>=1.0->aiohttp->-r ../requirements/requirements.txt (line 7)) (3.3)\n",
      "Requirement already satisfied: asttokens>=2.1.0 in /home/bvrabete/anaconda3/envs/py39/lib/python3.9/site-packages (from stack-data->ipython>=7.23.1->ipykernel->-r ../requirements/requirements.txt (line 3)) (2.4.0)\n",
      "Requirement already satisfied: executing>=1.2.0 in /home/bvrabete/anaconda3/envs/py39/lib/python3.9/site-packages (from stack-data->ipython>=7.23.1->ipykernel->-r ../requirements/requirements.txt (line 3)) (1.2.0)\n",
      "Requirement already satisfied: pure-eval in /home/bvrabete/anaconda3/envs/py39/lib/python3.9/site-packages (from stack-data->ipython>=7.23.1->ipykernel->-r ../requirements/requirements.txt (line 3)) (0.2.2)\n"
     ]
    },
    {
     "name": "stderr",
     "output_type": "stream",
     "text": [
      "9215.78s - pydevd: Sending message related to process being replaced timed-out after 5 seconds\n"
     ]
    },
    {
     "name": "stdout",
     "output_type": "stream",
     "text": [
      "Obtaining file:///home/bvrabete/dev/interviews/software-engineer-technical-test\n",
      "Installing collected packages: earthquakes\n",
      "  Attempting uninstall: earthquakes\n",
      "    Found existing installation: earthquakes 0.5.0.dev0\n",
      "    Uninstalling earthquakes-0.5.0.dev0:\n",
      "      Successfully uninstalled earthquakes-0.5.0.dev0\n",
      "  Running setup.py develop for earthquakes\n",
      "Successfully installed earthquakes-0.5.0.dev0\n"
     ]
    }
   ],
   "source": [
    "! pip install -r ../requirements/requirements.txt\n",
    "! pip install --no-deps -e .."
   ]
  },
  {
   "cell_type": "markdown",
   "metadata": {},
   "source": [
    "## Tests"
   ]
  },
  {
   "cell_type": "code",
   "execution_count": 66,
   "metadata": {},
   "outputs": [
    {
     "name": "stderr",
     "output_type": "stream",
     "text": [
      "9222.17s - pydevd: Sending message related to process being replaced timed-out after 5 seconds\n"
     ]
    },
    {
     "name": "stdout",
     "output_type": "stream",
     "text": [
      "\u001b[1m============================= test session starts ==============================\u001b[0m\n",
      "platform linux -- Python 3.9.12, pytest-7.1.2, pluggy-1.0.0\n",
      "rootdir: /home/bvrabete/dev/interviews/software-engineer-technical-test\n",
      "collected 2 items                                                              \u001b[0m\n",
      "\n",
      "tests/src/earthquakes/test_usgs_api.py \u001b[32m.\u001b[0m\u001b[32m.\u001b[0m\u001b[32m                                [100%]\u001b[0m\n",
      "\n",
      "\u001b[32m============================== \u001b[32m\u001b[1m2 passed\u001b[0m\u001b[32m in 0.38s\u001b[0m\u001b[32m ===============================\u001b[0m\n",
      "/home/bvrabete/dev/interviews/software-engineer-technical-test/notebook\n"
     ]
    }
   ],
   "source": [
    "! cd .. && pytest ; cd -"
   ]
  },
  {
   "cell_type": "markdown",
   "metadata": {},
   "source": [
    "---"
   ]
  },
  {
   "cell_type": "markdown",
   "metadata": {},
   "source": [
    "# Context\n",
    "\n",
    "A client asks for an insurance of their asset, located at `(35.025, 25.763)` in Greece.\n",
    "\n",
    "The client wishes to receive a payout under the following conditions:\n",
    "\n",
    "+ earthquake of magnitude `4.5` or higher within `10km`: full payout\n",
    "+ earthquake of magnitude `5.5` or higher within `50km`: `75%` payout\n",
    "+ earthquake of magnitude `6.5` or higher within `200km`: `50%` payout\n",
    "\n",
    "In the event of aftershocks, a payout can only occur once a year using the maximal value.\n",
    "\n",
    "## Example\n",
    "\n",
    "If in the same year:\n",
    "\n",
    "* an earthquake of magnitude `6.8` occurs within `200km`\n",
    "* **and** an aftershock of magnitude `5.8` occurs within `50km`\n",
    "\n",
    "the client receives a `75%` payout, and not a `125%` payout."
   ]
  },
  {
   "cell_type": "code",
   "execution_count": 67,
   "metadata": {},
   "outputs": [
    {
     "name": "stderr",
     "output_type": "stream",
     "text": [
      "9228.04s - pydevd: Sending message related to process being replaced timed-out after 5 seconds\n"
     ]
    },
    {
     "name": "stdout",
     "output_type": "stream",
     "text": [
      "/home/bvrabete/anaconda3/envs/py39/bin/python\n"
     ]
    }
   ],
   "source": [
    "! which python"
   ]
  },
  {
   "cell_type": "code",
   "execution_count": 68,
   "metadata": {},
   "outputs": [],
   "source": [
    "import numpy as np\n",
    "import pandas as pd\n",
    "from datetime import datetime\n",
    "\n",
    "from earthquakes.tools import (\n",
    "    DISTANCE_COLUMN,\n",
    "    LATITUDE_COLUMN,\n",
    "    LONGITUDE_COLUMN,\n",
    ") "
   ]
  },
  {
   "cell_type": "markdown",
   "metadata": {},
   "source": [
    "# Earthquake data\n",
    "\n",
    "The US Geological Service (USGS) provides CSV data through their [API](https://earthquake.usgs.gov/fdsnws/event/1/).\n",
    "\n",
    "Use it to retrieve earthquake information.\n",
    "\n",
    "In the module `earthquakes.usgs_api`:\n",
    "+ Implement the function `get_earthquake_data`,\n",
    "+ The function will retrieve the earthquake data of the area of interest for the past 200 years,\n",
    "+ The implementation must use the `urllib` python package,\n",
    "+ The API request url must be build in a dedicated function `build_api_url`,\n",
    "+ Tests should be provided for `build_api_url`.\n",
    "\n",
    "Note: Earthquakes after the 21-10-2021 should not be considered."
   ]
  },
  {
   "cell_type": "code",
   "execution_count": 69,
   "metadata": {},
   "outputs": [],
   "source": [
    "from earthquakes.usgs_api import get_earthquake_data"
   ]
  },
  {
   "cell_type": "code",
   "execution_count": 70,
   "metadata": {},
   "outputs": [],
   "source": [
    "# NOTE: Fill me!\n",
    "\n",
    "latitude = 35.025\n",
    "longitude = 25.763\n",
    "radius = 200.0\n",
    "minimum_magnitude = 4.5"
   ]
  },
  {
   "cell_type": "code",
   "execution_count": 71,
   "metadata": {},
   "outputs": [],
   "source": [
    "from datetime import datetime\n",
    "\n",
    "# NOTE: This request may take significant time (>10s)\n",
    "earthquake_data = get_earthquake_data(\n",
    "    latitude=latitude,\n",
    "    longitude=longitude,\n",
    "    radius=radius,\n",
    "    minimum_magnitude=minimum_magnitude,\n",
    "    end_date=datetime(year=2021, month=10, day=21)\n",
    ")"
   ]
  },
  {
   "cell_type": "code",
   "execution_count": 72,
   "metadata": {},
   "outputs": [],
   "source": [
    "assert isinstance(earthquake_data, pd.DataFrame)\n",
    "assert len(earthquake_data) == 734"
   ]
  },
  {
   "cell_type": "markdown",
   "metadata": {},
   "source": [
    "## Warning\n",
    "\n",
    "The next test may fail because USGS regularly updates their earthquake database.\n",
    "\n",
    "The dataframe obtained should over be similar to that presented bellow.\n",
    "\n",
    "Please contact us if there is an error."
   ]
  },
  {
   "cell_type": "code",
   "execution_count": 73,
   "metadata": {},
   "outputs": [],
   "source": [
    "expected_earthquake_data = pd.DataFrame([\n",
    "        [\"2021-10-12T09:24:05.099Z\", 35.1691, 26.2152, 20.0, 6.4, \"mww\", np.nan, 19.0, 0.860, 0.46,\"us\", \"us6000ftxu\", \"2021-12-18T19:58:57.040Z\", \"4 km SW of Palekastro, Greece\", \"earthquake\", 6.1, 1.8, 0.048, 42.0, \"reviewed\", \"us\", \"us\"],\n",
    "        [\"2021-10-03T14:31:27.622Z\", 35.1442, 25.2375, 10.0, 4.6, \"mb\", np.nan, 119.0, 0.318, 0.64, \"us\", \"us6000fsp1\", \"2021-12-10T21:14:19.040Z\", \"2 km W of Arkalochóri, Greece\", \"earthquake\", 5.0, 1.9, 0.165, 13.0, \"reviewed\", \"us\", \"us\"],\n",
    "        [\"2021-09-29T11:54:48.885Z\", 35.0268, 25.1561, 10.0, 4.6, \"mb\", np.nan, 69.0, 0.339, 0.83, \"us\", \"us6000fq3y\", \"2021-12-04T14:27:58.040Z\", \"2 km N of Pýrgos, Greece\", \"earthquake\", 5.1, 1.3, 0.068, 64.0, \"reviewed\", \"us\", \"us\"],\n",
    "        [\"2021-09-28T15:13:16.867Z\", 35.2054, 25.2791, 10.0, 4.7, \"mb\", np.nan, 58.0, 0.329, 0.70, \"us\", \"us7000ff84\", \"2021-12-04T14:30:09.040Z\", \"1 km N of Thrapsanón, Greece\", \"earthquake\", 6.9, 1.8, 0.067, 73.0, \"reviewed\", \"us\", \"us\"],\n",
    "        [\"2021-09-28T04:48:08.650Z\", 35.0817, 25.2018, 10.0, 5.3, \"mww\", np.nan, 43.0, 0.328, 0.94, \"us\", \"us7000ff36\", \"2021-12-04T14:30:04.040Z\", \"9 km SW of Arkalochóri, Greece\", \"earthquake\", 4.5, 1.7, 0.046, 45.0, \"reviewed\", \"us\", \"us\"],\n",
    "    ],\n",
    "    columns=['time', 'latitude', 'longitude', 'depth', 'mag', 'magType', 'nst', 'gap', 'dmin', 'rms', 'net', 'id', 'updated', 'place', 'type', 'horizontalError', 'depthError', 'magError', 'magNst', 'status', 'locationSource', 'magSource']\n",
    ")"
   ]
  },
  {
   "cell_type": "code",
   "execution_count": 74,
   "metadata": {},
   "outputs": [],
   "source": [
    "earthquake_data_sample = earthquake_data[\n",
    "    earthquake_data[\"time\"].isin(expected_earthquake_data[\"time\"])\n",
    "]\n",
    "\n",
    "# Commented out as data types are not exactly the same \n",
    "# pd.testing.assert_frame_equal(earthquake_data_sample, expected_earthquake_data)"
   ]
  },
  {
   "cell_type": "markdown",
   "metadata": {},
   "source": [
    "# Distance\n",
    "\n",
    "We wish to compute the the historical payouts (i.e. the payouts that would have occurred for the past 200 years).\n",
    "\n",
    "To compute the historical payouts, we need to know the distance between each earthquake and our client's asset.\n",
    "\n",
    "The distance between two points on a sphere is the [Haversine distance](https://en.wikipedia.org/wiki/Haversine_formula). In the module `eathquakes.tools`:\n",
    "- Implement and test the function `get_haversine_distance`,\n",
    "- Use `earthquakes.tools.EARTH_RADIUS` (6378km) as an approximation of the radius of Earth."
   ]
  },
  {
   "cell_type": "code",
   "execution_count": 75,
   "metadata": {},
   "outputs": [],
   "source": [
    "from earthquakes.tools import get_haversine_distance\n",
    "\n",
    "distances = get_haversine_distance(earthquake_data[LATITUDE_COLUMN], earthquake_data[LONGITUDE_COLUMN], latitude, longitude)\n",
    "\n",
    "earthquake_data[DISTANCE_COLUMN] = distances"
   ]
  },
  {
   "cell_type": "markdown",
   "metadata": {},
   "source": [
    "## Historical payouts and burning costs\n",
    "\n",
    "### Payout\n",
    "\n",
    "The historical payouts are a map `year -> payout in %`.\n",
    "\n",
    "eg: `1950: 50` for a payout of `50%` in 1950.\n",
    "\n",
    "Payouts are NOT given per event, but per year.\n",
    "\n",
    "This map can take the form of a python `dict` or of a pandas `Series`. \n",
    "\n",
    "### Burning cost\n",
    "\n",
    "The `burning cost` is the average of payouts over a time range.\n",
    "\n",
    "In this project, the burning cost should be expressed in `%`. \n",
    "\n",
    "### Payout structure\n",
    "\n",
    "The payout structure is:\n",
    "\n",
    "| Radius | Magnitude | Payout |\n",
    "|--------|-----------|--------|\n",
    "| 10km   | 4.5       | 100 %  |\n",
    "| 50km   | 5.5       |  75 %  |\n",
    "| 200km  | 6.5       |  50 %  |\n",
    "\n",
    "Even though multiple events can happen in a given year, clients can only receive one payout.\n",
    "\n",
    "In the module `earthquakes.tools`:\n",
    "+ Implement the functions `compute_payouts` and `compute_burning_cost`,\n",
    "+ Tests for these functions are not required.\n",
    "\n",
    "### Example\n",
    "\n",
    "A payout `{1950: 50, 1992: 75}` means that we would have paid our client\n",
    "+ in 1950, for `50%` of the insured amount (called 'limit')\n",
    "+ in 1992, for `75%` of the limit\n",
    "\n",
    "The burning cost over the `1922-2021` period would be `1.25%`.\n",
    "\n",
    "The burning cost over the `1972-2021` period would be `1.5%`."
   ]
  },
  {
   "cell_type": "code",
   "execution_count": 76,
   "metadata": {},
   "outputs": [],
   "source": [
    "from earthquakes.tools import compute_payouts, compute_burning_cost"
   ]
  },
  {
   "cell_type": "code",
   "execution_count": 77,
   "metadata": {},
   "outputs": [],
   "source": [
    "payout_structure = [{\"radius\": 10.0, \"magnitude\": 4.5, \"payout\": 100.0},\n",
    "                    {\"radius\": 50.0, \"magnitude\": 5.5, \"payout\": 75.0},\n",
    "                    {\"radius\": 200.0, \"magnitude\": 6.5, \"payout\": 50.0}]"
   ]
  },
  {
   "cell_type": "code",
   "execution_count": 82,
   "metadata": {},
   "outputs": [],
   "source": [
    "payouts = compute_payouts(earthquake_data, payout_structure)"
   ]
  },
  {
   "cell_type": "code",
   "execution_count": 81,
   "metadata": {},
   "outputs": [],
   "source": [
    "# Depending on the return type of compute_payouts, the following line needs to be adjusted.\n",
    "# - pd.Series:\n",
    "payout_values = np.array(payouts.values)\n",
    "# - dict:\n",
    "# payout_values = np.array(list(payouts.values()))\n",
    "assert np.max(payout_values) > 1\n",
    "assert np.max(payout_values) <= 100"
   ]
  },
  {
   "cell_type": "code",
   "execution_count": 92,
   "metadata": {},
   "outputs": [],
   "source": [
    "burning_cost = compute_burning_cost(payouts, start_year=1952, end_year=2021)"
   ]
  },
  {
   "cell_type": "code",
   "execution_count": 93,
   "metadata": {},
   "outputs": [
    {
     "ename": "AssertionError",
     "evalue": "\nNot equal to tolerance rtol=1e-07, atol=0.01\n\nMismatched elements: 1 / 1 (100%)\nMax absolute difference: 9.96\nMax relative difference: 0.92997199\n x: array(0.75)\n y: array(10.71)",
     "output_type": "error",
     "traceback": [
      "\u001b[0;31m---------------------------------------------------------------------------\u001b[0m",
      "\u001b[0;31mAssertionError\u001b[0m                            Traceback (most recent call last)",
      "\u001b[1;32m/home/bvrabete/dev/interviews/software-engineer-technical-test/notebook/earthquake-risk-greece.ipynb Cell 27\u001b[0m line \u001b[0;36m1\n\u001b[0;32m----> <a href='vscode-notebook-cell:/home/bvrabete/dev/interviews/software-engineer-technical-test/notebook/earthquake-risk-greece.ipynb#X42sZmlsZQ%3D%3D?line=0'>1</a>\u001b[0m np\u001b[39m.\u001b[39;49mtesting\u001b[39m.\u001b[39;49massert_allclose(burning_cost, \u001b[39m10.71\u001b[39;49m, atol\u001b[39m=\u001b[39;49m\u001b[39m1e-2\u001b[39;49m)\n",
      "    \u001b[0;31m[... skipping hidden 1 frame]\u001b[0m\n",
      "File \u001b[0;32m~/anaconda3/envs/py39/lib/python3.9/contextlib.py:79\u001b[0m, in \u001b[0;36mContextDecorator.__call__.<locals>.inner\u001b[0;34m(*args, **kwds)\u001b[0m\n\u001b[1;32m     76\u001b[0m \u001b[39m@wraps\u001b[39m(func)\n\u001b[1;32m     77\u001b[0m \u001b[39mdef\u001b[39;00m \u001b[39minner\u001b[39m(\u001b[39m*\u001b[39margs, \u001b[39m*\u001b[39m\u001b[39m*\u001b[39mkwds):\n\u001b[1;32m     78\u001b[0m     \u001b[39mwith\u001b[39;00m \u001b[39mself\u001b[39m\u001b[39m.\u001b[39m_recreate_cm():\n\u001b[0;32m---> 79\u001b[0m         \u001b[39mreturn\u001b[39;00m func(\u001b[39m*\u001b[39;49margs, \u001b[39m*\u001b[39;49m\u001b[39m*\u001b[39;49mkwds)\n",
      "File \u001b[0;32m~/anaconda3/envs/py39/lib/python3.9/site-packages/numpy/testing/_private/utils.py:797\u001b[0m, in \u001b[0;36massert_array_compare\u001b[0;34m(comparison, x, y, err_msg, verbose, header, precision, equal_nan, equal_inf, strict)\u001b[0m\n\u001b[1;32m    793\u001b[0m         err_msg \u001b[39m+\u001b[39m\u001b[39m=\u001b[39m \u001b[39m'\u001b[39m\u001b[39m\\n\u001b[39;00m\u001b[39m'\u001b[39m \u001b[39m+\u001b[39m \u001b[39m'\u001b[39m\u001b[39m\\n\u001b[39;00m\u001b[39m'\u001b[39m\u001b[39m.\u001b[39mjoin(remarks)\n\u001b[1;32m    794\u001b[0m         msg \u001b[39m=\u001b[39m build_err_msg([ox, oy], err_msg,\n\u001b[1;32m    795\u001b[0m                             verbose\u001b[39m=\u001b[39mverbose, header\u001b[39m=\u001b[39mheader,\n\u001b[1;32m    796\u001b[0m                             names\u001b[39m=\u001b[39m(\u001b[39m'\u001b[39m\u001b[39mx\u001b[39m\u001b[39m'\u001b[39m, \u001b[39m'\u001b[39m\u001b[39my\u001b[39m\u001b[39m'\u001b[39m), precision\u001b[39m=\u001b[39mprecision)\n\u001b[0;32m--> 797\u001b[0m         \u001b[39mraise\u001b[39;00m \u001b[39mAssertionError\u001b[39;00m(msg)\n\u001b[1;32m    798\u001b[0m \u001b[39mexcept\u001b[39;00m \u001b[39mValueError\u001b[39;00m:\n\u001b[1;32m    799\u001b[0m     \u001b[39mimport\u001b[39;00m \u001b[39mtraceback\u001b[39;00m\n",
      "\u001b[0;31mAssertionError\u001b[0m: \nNot equal to tolerance rtol=1e-07, atol=0.01\n\nMismatched elements: 1 / 1 (100%)\nMax absolute difference: 9.96\nMax relative difference: 0.92997199\n x: array(0.75)\n y: array(10.71)"
     ]
    }
   ],
   "source": [
    "np.testing.assert_allclose(burning_cost, 10.71, atol=1e-2)"
   ]
  },
  {
   "cell_type": "code",
   "execution_count": null,
   "metadata": {},
   "outputs": [],
   "source": [
    "import matplotlib.pyplot as plt"
   ]
  },
  {
   "cell_type": "code",
   "execution_count": null,
   "metadata": {},
   "outputs": [],
   "source": [
    "years = range(1921, 2021)\n",
    "plt.plot(\n",
    "    years, \n",
    "    [\n",
    "        compute_burning_cost(payouts, start_year=start_year, end_year=2021) \n",
    "        for start_year in years\n",
    "    ]\n",
    ")\n",
    "plt.gca().invert_xaxis()"
   ]
  },
  {
   "cell_type": "markdown",
   "metadata": {},
   "source": [
    "# Large asset portfolio - async requests\n",
    "\n",
    "Our client also whishes to cover a large amount of properties all over Europe.\n",
    "\n",
    "In order to speed-up the requests to the USGS API, in the module `earthquakes.usgs_api`:\n",
    "- Implement the `async` function `get_earthquake_data_for_multiple_locations`,\n",
    "- The implementation should use the `asyncio` and `aiohttp` libraries,\n",
    "- The solution should re-use some of the functions already written,\n",
    "- Tests are not required for any of the functions.\n",
    "\n",
    "Note: it is possible that the notebook autoreload feature doesn't work for `async` functions - a kernel restart may be necessary after each modifications."
   ]
  },
  {
   "cell_type": "code",
   "execution_count": null,
   "metadata": {},
   "outputs": [],
   "source": [
    "import numpy as np\n",
    "import pandas as pd\n",
    "from datetime import datetime\n",
    "\n",
    "from earthquakes.tools import (\n",
    "    LATITUDE_COLUMN,\n",
    "    LONGITUDE_COLUMN,\n",
    ")"
   ]
  },
  {
   "cell_type": "code",
   "execution_count": null,
   "metadata": {},
   "outputs": [],
   "source": [
    "number_of_assets = 10\n",
    "# NOTE: limiting to number of assets so that the query doesn't take too long."
   ]
  },
  {
   "cell_type": "code",
   "execution_count": null,
   "metadata": {},
   "outputs": [],
   "source": [
    "random_state = np.random.RandomState(0)\n",
    "\n",
    "random_values = random_state.random(2*number_of_assets)\n",
    "\n",
    "latitudes = random_values[::2] * 20 + 35.0\n",
    "longitudes = random_values[1::2] * 25 + 3.0"
   ]
  },
  {
   "cell_type": "code",
   "execution_count": null,
   "metadata": {},
   "outputs": [],
   "source": [
    "from earthquakes.usgs_api import get_earthquake_data_for_multiple_locations"
   ]
  },
  {
   "cell_type": "code",
   "execution_count": null,
   "metadata": {},
   "outputs": [],
   "source": [
    "# NOTE: Fill me!\n",
    "assets = \"fill with proper object\""
   ]
  },
  {
   "cell_type": "code",
   "execution_count": null,
   "metadata": {},
   "outputs": [],
   "source": [
    "# NOTE: This request may take significant time (>10s)\n",
    "earthquake_data = await get_earthquake_data_for_multiple_locations(  # type: ignore\n",
    "    assets, \n",
    "    radius=200, \n",
    "    minimum_magnitude=4.5, \n",
    "    end_date=datetime(year=2021, month=10, day=21)\n",
    ")"
   ]
  },
  {
   "cell_type": "code",
   "execution_count": null,
   "metadata": {},
   "outputs": [],
   "source": [
    "assert isinstance(earthquake_data, pd.DataFrame)\n",
    "assert len(earthquake_data) == 1151"
   ]
  }
 ],
 "metadata": {
  "kernelspec": {
   "display_name": "Python 3",
   "language": "python",
   "name": "python3"
  },
  "language_info": {
   "codemirror_mode": {
    "name": "ipython",
    "version": 3
   },
   "file_extension": ".py",
   "mimetype": "text/x-python",
   "name": "python",
   "nbconvert_exporter": "python",
   "pygments_lexer": "ipython3",
   "version": "3.9.12"
  },
  "vscode": {
   "interpreter": {
    "hash": "7e1998ff7f8aa20ada591c520b972326324e5ea05489af9e422744c7c09f6dad"
   }
  }
 },
 "nbformat": 4,
 "nbformat_minor": 2
}
